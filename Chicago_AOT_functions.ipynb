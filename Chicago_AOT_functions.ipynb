{
 "cells": [
  {
   "cell_type": "markdown",
   "metadata": {},
   "source": [
    "Chicago AOT Project"
   ]
  },
  {
   "cell_type": "markdown",
   "metadata": {},
   "source": [
    "The data is truncated at a week. The response data is paginated. By default the data is 200 elements. We can either expand that with a param or follow the links in the meta section of the response. There are ~100 nodes in the system and each reports about 20 to 40 sensors every 30 seconds, so each page covers maybe a minute or so if you limit it to a single node."
   ]
  },
  {
   "cell_type": "code",
   "execution_count": null,
   "metadata": {},
   "outputs": [],
   "source": [
    "from aot_client import AotClient"
   ]
  },
  {
   "cell_type": "code",
   "execution_count": 2,
   "metadata": {},
   "outputs": [],
   "source": [
    "client = AotClient()"
   ]
  },
  {
   "cell_type": "code",
   "execution_count": 4,
   "metadata": {},
   "outputs": [],
   "source": [
    "# The client responds with \"paged responses\", not raw data.  This function can allow you to consume the data without overloading the API or client app.\n",
    "for page in client.list_observations():\n",
    "    print(f'Curr URL: {page.current_link}')\n",
    "    print(f'Next URL: {page.next_link}')\n",
    "    print(f'Data Size: {len(page.data)}')\n",
    "    print(f'Data Time Range: {page.data[0][\"timestamp\"]} , {page.data[-1][\"timestamp\"]}')\n",
    "    print('')"
   ]
  },
  {
   "cell_type": "code",
   "execution_count": 8,
   "metadata": {},
   "outputs": [],
   "source": [
    "# This function allow you add more elements in the data array per page by supplying a size filter to the request\n",
    "from aot_client import AotClient, F\n",
    "for page in client.list_observations(filters=F('size', 2000)):\n",
    "    print(f'Curr URL: {page.current_link}')\n",
    "    print(f'Next URL: {page.next_link}')\n",
    "    print(f'Data Size: {len(page.data)}')\n",
    "    print(f'Data Time Range: {page.data[0][\"timestamp\"]} , {page.data[-1][\"timestamp\"]}')\n",
    "    print('')"
   ]
  },
  {
   "cell_type": "markdown",
   "metadata": {},
   "source": [
    "In order to find out data availability and retention, I think we should filter the data by timestamp."
   ]
  }
 ],
 "metadata": {
  "kernelspec": {
   "display_name": "Python 3",
   "language": "python",
   "name": "python3"
  },
  "language_info": {
   "codemirror_mode": {
    "name": "ipython",
    "version": 3
   },
   "file_extension": ".py",
   "mimetype": "text/x-python",
   "name": "python",
   "nbconvert_exporter": "python",
   "pygments_lexer": "ipython3",
   "version": "3.6.4"
  }
 },
 "nbformat": 4,
 "nbformat_minor": 2
}
